{
 "metadata": {
  "language_info": {
   "codemirror_mode": {
    "name": "ipython",
    "version": 3
   },
   "file_extension": ".py",
   "mimetype": "text/x-python",
   "name": "python",
   "nbconvert_exporter": "python",
   "pygments_lexer": "ipython3",
   "version": "3.7.4-final"
  },
  "orig_nbformat": 2,
  "kernelspec": {
   "name": "python3",
   "display_name": "Python 3.7.4 64-bit ('base': conda)",
   "metadata": {
    "interpreter": {
     "hash": "0a89e5e754626ecd49ff7e98776b638d2633ff01fdaa911aff055820f897ec8c"
    }
   }
  }
 },
 "nbformat": 4,
 "nbformat_minor": 2,
 "cells": [
  {
   "cell_type": "code",
   "execution_count": 3,
   "metadata": {},
   "outputs": [],
   "source": [
    "import pandas as pd\n",
    "df = pd.read_csv('queried.csv')"
   ]
  },
  {
   "cell_type": "code",
   "execution_count": 4,
   "metadata": {},
   "outputs": [
    {
     "output_type": "execute_result",
     "data": {
      "text/plain": [
       "   Symbol   Element         AtomicNumber   AtomicMass   Period   Group   \\\n",
       "0  H        Hydrogen                    1        1.007        1  1        \n",
       "1  He       Helium                      2        4.002        1  18       \n",
       "2  Li       Lithium                     3        6.941        2  1        \n",
       "3  Be       Beryllium                   4        9.012        2  2        \n",
       "4  B        Boron                       5       10.811        2  13       \n",
       "\n",
       "   Phase        Type                   \n",
       "0  gas          Nonmetal               \n",
       "1  gas          Noble Gas              \n",
       "2  solid        Alkali Metal           \n",
       "3  solid        Alkaline Earth Metal   \n",
       "4  solid        Metalloid              "
      ],
      "text/html": "<div>\n<style scoped>\n    .dataframe tbody tr th:only-of-type {\n        vertical-align: middle;\n    }\n\n    .dataframe tbody tr th {\n        vertical-align: top;\n    }\n\n    .dataframe thead th {\n        text-align: right;\n    }\n</style>\n<table border=\"1\" class=\"dataframe\">\n  <thead>\n    <tr style=\"text-align: right;\">\n      <th></th>\n      <th>Symbol</th>\n      <th>Element</th>\n      <th>AtomicNumber</th>\n      <th>AtomicMass</th>\n      <th>Period</th>\n      <th>Group</th>\n      <th>Phase</th>\n      <th>Type</th>\n    </tr>\n  </thead>\n  <tbody>\n    <tr>\n      <td>0</td>\n      <td>H</td>\n      <td>Hydrogen</td>\n      <td>1</td>\n      <td>1.007</td>\n      <td>1</td>\n      <td>1</td>\n      <td>gas</td>\n      <td>Nonmetal</td>\n    </tr>\n    <tr>\n      <td>1</td>\n      <td>He</td>\n      <td>Helium</td>\n      <td>2</td>\n      <td>4.002</td>\n      <td>1</td>\n      <td>18</td>\n      <td>gas</td>\n      <td>Noble Gas</td>\n    </tr>\n    <tr>\n      <td>2</td>\n      <td>Li</td>\n      <td>Lithium</td>\n      <td>3</td>\n      <td>6.941</td>\n      <td>2</td>\n      <td>1</td>\n      <td>solid</td>\n      <td>Alkali Metal</td>\n    </tr>\n    <tr>\n      <td>3</td>\n      <td>Be</td>\n      <td>Beryllium</td>\n      <td>4</td>\n      <td>9.012</td>\n      <td>2</td>\n      <td>2</td>\n      <td>solid</td>\n      <td>Alkaline Earth Metal</td>\n    </tr>\n    <tr>\n      <td>4</td>\n      <td>B</td>\n      <td>Boron</td>\n      <td>5</td>\n      <td>10.811</td>\n      <td>2</td>\n      <td>13</td>\n      <td>solid</td>\n      <td>Metalloid</td>\n    </tr>\n  </tbody>\n</table>\n</div>"
     },
     "metadata": {},
     "execution_count": 4
    }
   ],
   "source": [
    "df.head()"
   ]
  },
  {
   "cell_type": "code",
   "execution_count": 6,
   "metadata": {},
   "outputs": [
    {
     "output_type": "stream",
     "name": "stdout",
     "text": [
      "<class 'pandas.core.frame.DataFrame'>\nRangeIndex: 118 entries, 0 to 117\nData columns (total 8 columns):\nSymbol                   118 non-null object\nElement                  118 non-null object\nAtomicNumber             118 non-null int64\nAtomicMass               118 non-null float64\nPeriod                   118 non-null int64\nGroup                    118 non-null object\nPhase                    118 non-null object\nType                     118 non-null object\ndtypes: float64(1), int64(2), object(5)\nmemory usage: 7.5+ KB\n"
     ]
    }
   ],
   "source": [
    "df.info()"
   ]
  },
  {
   "cell_type": "code",
   "execution_count": 13,
   "metadata": {},
   "outputs": [
    {
     "output_type": "execute_result",
     "data": {
      "text/plain": [
       "Index(['Symbol ', 'Element       ', 'AtomicNumber ', 'AtomicMass ', 'Period ',\n",
       "       'Group ', 'Phase      ', 'Type                 '],\n",
       "      dtype='object')"
      ]
     },
     "metadata": {},
     "execution_count": 13
    }
   ],
   "source": [
    "df.columns"
   ]
  },
  {
   "cell_type": "code",
   "execution_count": 42,
   "metadata": {
    "tags": []
   },
   "outputs": [
    {
     "output_type": "error",
     "ename": "ValueError",
     "evalue": "The truth value of an array with more than one element is ambiguous. Use a.any() or a.all()",
     "traceback": [
      "\u001b[1;31m---------------------------------------------------------------------------\u001b[0m",
      "\u001b[1;31mValueError\u001b[0m                                Traceback (most recent call last)",
      "\u001b[1;32m<ipython-input-42-69148d2eca3d>\u001b[0m in \u001b[0;36m<module>\u001b[1;34m\u001b[0m\n\u001b[0;32m      1\u001b[0m \u001b[0mvals\u001b[0m \u001b[1;33m=\u001b[0m \u001b[1;33m[\u001b[0m\u001b[0mdf\u001b[0m\u001b[1;33m[\u001b[0m\u001b[1;34m'Group '\u001b[0m\u001b[1;33m]\u001b[0m\u001b[1;33m.\u001b[0m\u001b[0mindex\u001b[0m \u001b[1;32mfor\u001b[0m \u001b[0mi\u001b[0m \u001b[1;32min\u001b[0m \u001b[0mdf\u001b[0m\u001b[1;33m[\u001b[0m\u001b[1;34m'Group '\u001b[0m\u001b[1;33m]\u001b[0m \u001b[1;32mif\u001b[0m \u001b[0mi\u001b[0m\u001b[1;33m.\u001b[0m\u001b[0mstrip\u001b[0m\u001b[1;33m(\u001b[0m\u001b[1;33m)\u001b[0m \u001b[1;33m!=\u001b[0m \u001b[1;34m''\u001b[0m\u001b[1;33m]\u001b[0m\u001b[1;33m\u001b[0m\u001b[1;33m\u001b[0m\u001b[0m\n\u001b[1;32m----> 2\u001b[1;33m \u001b[0mvals\u001b[0m\u001b[1;33m.\u001b[0m\u001b[0msort\u001b[0m\u001b[1;33m(\u001b[0m\u001b[1;33m)\u001b[0m\u001b[1;33m\u001b[0m\u001b[1;33m\u001b[0m\u001b[0m\n\u001b[0m\u001b[0;32m      3\u001b[0m \u001b[0mprint\u001b[0m\u001b[1;33m(\u001b[0m\u001b[0mvals\u001b[0m\u001b[1;33m)\u001b[0m\u001b[1;33m\u001b[0m\u001b[1;33m\u001b[0m\u001b[0m\n",
      "\u001b[1;31mValueError\u001b[0m: The truth value of an array with more than one element is ambiguous. Use a.any() or a.all()"
     ]
    }
   ],
   "source": [
    "vals = [df['Group '].index for i in df['Group '] if i.strip() != '']\n",
    "vals.sort()\n",
    "print(vals)"
   ]
  },
  {
   "cell_type": "code",
   "execution_count": null,
   "metadata": {},
   "outputs": [],
   "source": []
  }
 ]
}